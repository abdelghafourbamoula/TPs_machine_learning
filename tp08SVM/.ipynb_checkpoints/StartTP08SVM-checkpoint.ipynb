{
 "cells": [
  {
   "cell_type": "markdown",
   "metadata": {
    "id": "0pKAU-iLP4dT"
   },
   "source": [
    "# **TP08 SVM (Support vector Machine)**"
   ]
  },
  {
   "cell_type": "markdown",
   "metadata": {
    "id": "LRQdLnPZQI7w"
   },
   "source": [
    "## **Partie 1**\n",
    "\n",
    "#### Q1. Récupération des données\n",
    "\n",
    "1-Utiliser load_iris  de la librairie sklearn.datasets pour récuperer les données de ce fichier \n",
    "\n",
    "2-Afficher les variables explicatives et et la variable explicatives.\n",
    "\n",
    "\n"
   ]
  },
  {
   "cell_type": "code",
   "execution_count": 2,
   "metadata": {
    "id": "ur00oZUPGGXw"
   },
   "outputs": [],
   "source": [
    "import pandas as pd\n",
    "import seaborn as sns\n",
    "import numpy as np\n",
    "import matplotlib.pyplot as plt"
   ]
  },
  {
   "cell_type": "code",
   "execution_count": null,
   "metadata": {
    "id": "WnmVFOZBGbOJ"
   },
   "outputs": [],
   "source": [
    "iris = sns"
   ]
  },
  {
   "cell_type": "code",
   "execution_count": null,
   "metadata": {
    "id": "QgpX_xgWGeVH"
   },
   "outputs": [],
   "source": []
  },
  {
   "cell_type": "code",
   "execution_count": null,
   "metadata": {
    "id": "RXS1QIW4Gl9c"
   },
   "outputs": [],
   "source": []
  },
  {
   "cell_type": "code",
   "execution_count": null,
   "metadata": {
    "id": "BEAYF_1WGsxe"
   },
   "outputs": [],
   "source": []
  },
  {
   "cell_type": "code",
   "execution_count": null,
   "metadata": {
    "id": "YFY8R3pcHHmy"
   },
   "outputs": [],
   "source": []
  },
  {
   "cell_type": "code",
   "execution_count": null,
   "metadata": {
    "id": "svGQ7RkTHcHH"
   },
   "outputs": [],
   "source": []
  },
  {
   "cell_type": "code",
   "execution_count": null,
   "metadata": {
    "id": "RJhnVkk4Heg-"
   },
   "outputs": [],
   "source": []
  },
  {
   "cell_type": "code",
   "execution_count": null,
   "metadata": {
    "id": "b0nH6TyqHh0W"
   },
   "outputs": [],
   "source": []
  },
  {
   "cell_type": "code",
   "execution_count": null,
   "metadata": {
    "id": "XB4fA9L9H4Vg"
   },
   "outputs": [],
   "source": []
  },
  {
   "cell_type": "markdown",
   "metadata": {
    "id": "mJwcWGvTRQHK"
   },
   "source": [
    "#### Q2. Selection des caracteristiques\n",
    "Créer les deux dataframes:\n",
    "- X: le dataframe des entrée \n",
    "- y: la sortie "
   ]
  },
  {
   "cell_type": "code",
   "execution_count": null,
   "metadata": {
    "id": "i2T0v-81H_So"
   },
   "outputs": [],
   "source": []
  },
  {
   "cell_type": "code",
   "execution_count": null,
   "metadata": {
    "id": "nIyrgFMtIBew"
   },
   "outputs": [],
   "source": []
  },
  {
   "cell_type": "code",
   "execution_count": null,
   "metadata": {
    "id": "d9V3-HFqIV7M"
   },
   "outputs": [],
   "source": []
  },
  {
   "cell_type": "code",
   "execution_count": null,
   "metadata": {
    "id": "MF6rEUyXIgsc"
   },
   "outputs": [],
   "source": []
  },
  {
   "cell_type": "code",
   "execution_count": null,
   "metadata": {
    "id": "rvGBaqe3IjPL"
   },
   "outputs": [],
   "source": []
  },
  {
   "cell_type": "markdown",
   "metadata": {
    "id": "zRPGfhsmRdgq"
   },
   "source": [
    "#### Q3. Partitionner ces données en X_train, X_test, y_train, y_test"
   ]
  },
  {
   "cell_type": "code",
   "execution_count": null,
   "metadata": {
    "id": "pe3PUMzlIoiz"
   },
   "outputs": [],
   "source": []
  },
  {
   "cell_type": "markdown",
   "metadata": {
    "id": "YsNKzy8eRz7y"
   },
   "source": [
    "#### Q4. Création, entrainement et évaluation du modèle SVM\n",
    "1. Utiliser le classifieur ***svm*** du module ***sklearn*** pour initialiser et entrainer quatres modèles svm avec les parametres suivants:\n",
    ">- kernel: \"linear\";  C: 1\n",
    ">- kernel: \"linear\";  C: 10 ; gamma=10\n",
    ">- kernel: \"rbf\"   ;  C: 1 ; gamma=10\n",
    ">- kernel: \"rbf\"   ;  C: 3"
   ]
  },
  {
   "cell_type": "code",
   "execution_count": null,
   "metadata": {
    "id": "czLYV2o4Itvy"
   },
   "outputs": [],
   "source": []
  },
  {
   "cell_type": "code",
   "execution_count": null,
   "metadata": {
    "id": "R-5hSju1Ivmp"
   },
   "outputs": [],
   "source": []
  },
  {
   "cell_type": "code",
   "execution_count": null,
   "metadata": {
    "id": "7i2nA3RNIxY6"
   },
   "outputs": [],
   "source": []
  },
  {
   "cell_type": "code",
   "execution_count": null,
   "metadata": {
    "id": "R1MVEA17Iz5h"
   },
   "outputs": [],
   "source": []
  },
  {
   "cell_type": "code",
   "execution_count": null,
   "metadata": {
    "id": "W8-6b6VAI195"
   },
   "outputs": [],
   "source": []
  },
  {
   "cell_type": "code",
   "execution_count": null,
   "metadata": {
    "id": "lLxp6YbmI9lW"
   },
   "outputs": [],
   "source": []
  },
  {
   "cell_type": "code",
   "execution_count": null,
   "metadata": {
    "id": "uEel12bLI_aW"
   },
   "outputs": [],
   "source": []
  },
  {
   "cell_type": "code",
   "execution_count": null,
   "metadata": {
    "id": "1RaMVxohJBd-"
   },
   "outputs": [],
   "source": []
  },
  {
   "cell_type": "code",
   "execution_count": null,
   "metadata": {
    "id": "o8cGYinBJDd1"
   },
   "outputs": [],
   "source": []
  },
  {
   "cell_type": "markdown",
   "metadata": {
    "id": "TlR3haPzZkWh"
   },
   "source": [
    "#### Q5. Comparaison des deux modèles\n",
    "1. pour chacun des quatres modèles, afficher la matrice de confusion\n",
    "\n",
    "2. Quel est le meilleur modèle pour ce problème? pourquoi?"
   ]
  },
  {
   "cell_type": "markdown",
   "metadata": {
    "id": "DsEa4rwHZzRm"
   },
   "source": [
    "## **Partie II**"
   ]
  },
  {
   "cell_type": "markdown",
   "metadata": {
    "id": "YAKYSlrfaHDI"
   },
   "source": [
    "Entraînez le classificateur SVM à l'aide de l'ensemble de données sklearn digits (c'est-à-dire à partir de sklearn.datasets import load_digits), \n",
    "- Partitionner ces données en X_train, X_test, y_train, y_test\n",
    "- Mesurez accurancy de votre modèle à l'aide de différents kernels tels que rbf et linear.\n",
    "-Ajustez davantage votre modèle en utilisant les paramètres de régularisation et gamma et essayez d'obtenir le score de précision le plus élevé"
   ]
  },
  {
   "cell_type": "code",
   "execution_count": null,
   "metadata": {
    "id": "-qdr7gP7a_Ke"
   },
   "outputs": [],
   "source": []
  }
 ],
 "metadata": {
  "colab": {
   "name": "StartTP08SVM.ipynb",
   "provenance": []
  },
  "kernelspec": {
   "display_name": "Python 3 (ipykernel)",
   "language": "python",
   "name": "python3"
  },
  "language_info": {
   "codemirror_mode": {
    "name": "ipython",
    "version": 3
   },
   "file_extension": ".py",
   "mimetype": "text/x-python",
   "name": "python",
   "nbconvert_exporter": "python",
   "pygments_lexer": "ipython3",
   "version": "3.9.7"
  }
 },
 "nbformat": 4,
 "nbformat_minor": 1
}
